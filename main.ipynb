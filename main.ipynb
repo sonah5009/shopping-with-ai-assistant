{
 "cells": [
  {
   "cell_type": "code",
   "execution_count": 1,
   "metadata": {},
   "outputs": [],
   "source": [
    "from dotenv import load_dotenv\n",
    "import os\n",
    "from langchain.document_loaders import CSVLoader\n",
    "from langchain_openai import OpenAIEmbeddings\n",
    "from langchain.vectorstores import Chroma\n",
    "from langchain.embeddings.sentence_transformer import SentenceTransformerEmbeddings\n",
    "\n",
    "from langchain.prompts import ChatPromptTemplate\n",
    "from langchain.chat_models import ChatOpenAI\n",
    "from langchain_core.output_parsers import StrOutputParser\n",
    "from langchain_core.runnables import RunnableLambda, RunnablePassthrough"
   ]
  },
  {
   "cell_type": "code",
   "execution_count": 2,
   "metadata": {},
   "outputs": [
    {
     "data": {
      "text/plain": [
       "True"
      ]
     },
     "execution_count": 2,
     "metadata": {},
     "output_type": "execute_result"
    }
   ],
   "source": [
    "load_dotenv()"
   ]
  },
  {
   "cell_type": "code",
   "execution_count": null,
   "metadata": {},
   "outputs": [],
   "source": [
    "loader = CSVLoader(file_path=\"./e-commerce-data.csv\")\n",
    "documents = loader.load()"
   ]
  },
  {
   "cell_type": "markdown",
   "metadata": {},
   "source": [
    "# **all-MiniLM-L6-v2** model"
   ]
  },
  {
   "cell_type": "code",
   "execution_count": null,
   "metadata": {},
   "outputs": [],
   "source": [
    "# practice\n",
    "embedding_function = SentenceTransformerEmbeddings(model_name=\"all-MiniLM-L6-v2\")\n",
    "\n",
    "db = Chroma.from_documents(documents, embedding_function)\n",
    "query = \"How many quantity of the wallet is left?\"\n",
    "docs = db.similarity_search(query)\n",
    "print(docs[0].page_content)\n"
   ]
  },
  {
   "cell_type": "code",
   "execution_count": null,
   "metadata": {},
   "outputs": [],
   "source": [
    "query = \"I am thirsty so want to buy some drinks.\"\n",
    "docs = db.similarity_search(query)\n",
    "print(docs[0].page_content)"
   ]
  },
  {
   "cell_type": "markdown",
   "metadata": {},
   "source": [
    "# LangChain Expression with Chroma DB CSV (RAG) - **OpenAIEmbeddings** model"
   ]
  },
  {
   "cell_type": "code",
   "execution_count": 3,
   "metadata": {},
   "outputs": [],
   "source": [
    "embeddings_ = OpenAIEmbeddings()\n",
    "loader = CSVLoader(file_path=\"./e-commerce-data.csv\")\n",
    "documents = loader.load()\n",
    "db = Chroma.from_documents(documents, embeddings_)"
   ]
  },
  {
   "cell_type": "code",
   "execution_count": 4,
   "metadata": {},
   "outputs": [
    {
     "name": "stdout",
     "output_type": "stream",
     "text": [
      "Name: HOT WATER BOTTLE I AM SO POORLY\n",
      "Quantity: 8\n",
      "UnitPrice: 4.65\n"
     ]
    }
   ],
   "source": [
    "query = \"I am thirsty so want to buy some drinks.\"\n",
    "docs = db.similarity_search(query)\n",
    "print(docs[0].page_content)"
   ]
  },
  {
   "cell_type": "code",
   "execution_count": 5,
   "metadata": {},
   "outputs": [
    {
     "name": "stderr",
     "output_type": "stream",
     "text": [
      "/Users/choesuna/miniforge3/lib/python3.10/site-packages/langchain_core/_api/deprecation.py:139: LangChainDeprecationWarning: The class `ChatOpenAI` was deprecated in LangChain 0.0.10 and will be removed in 0.3.0. An updated version of the class exists in the langchain-openai package and should be used instead. To use it run `pip install -U langchain-openai` and import as `from langchain_openai import ChatOpenAI`.\n",
      "  warn_deprecated(\n"
     ]
    }
   ],
   "source": [
    "retriever = db.as_retriever()\n",
    "\n",
    "template = \"\"\"\n",
    "You are the best online shopping mall seller.\n",
    "Answer the question based only on the following context and basically recommend the product with unit price:\n",
    "{context}\n",
    "\n",
    "Question: {question}\n",
    "\"\"\"\n",
    "template = \"\"\"\n",
    "Answer the question based only on the following context:\n",
    "{context}\n",
    "\n",
    "Question: {question}\n",
    "\"\"\"\n",
    "prompt = ChatPromptTemplate.from_template(template)\n",
    "\n",
    "model = ChatOpenAI()\n",
    "\n",
    "chain = (\n",
    "    {\"context\": retriever, \"question\": RunnablePassthrough()}\n",
    "    | prompt\n",
    "    | model\n",
    "    | StrOutputParser()\n",
    ")\n"
   ]
  },
  {
   "cell_type": "code",
   "execution_count": 7,
   "metadata": {},
   "outputs": [
    {
     "name": "stdout",
     "output_type": "stream",
     "text": [
      "Based on the given context, you can buy the \"VINTAGE BILLBOARD DRINK ME MUG\" which has a quantity of 6 and a unit price of 1.06.\n",
      "Based on the provided context, you can consider purchasing the following hangers:\n",
      "1. CROCHET ROSE DES CLOTHES HANGER - Quantity: 2, Unit Price: $2.95 each\n",
      "2. HOME SWEET HOME 3 PEG HANGER - Quantity: 2, Unit Price: $3.75 each\n",
      "3. DOOR HANGER MUM + DADS ROOM - Quantity: 1, Unit Price: $1.45\n",
      "4. HOME SWEET HOME 3 PEG HANGER - Quantity: 1, Unit Price: $3.75\n",
      "\n",
      "You have a variety of hangers to choose from based on your preferences and needs.\n",
      "Based on the context provided, you could consider buying birthday items such as a \"BLUE HAPPY BIRTHDAY BUNTING,\" \"ROBOT BIRTHDAY CARD,\" \"ELEPHANT BIRTHDAY CARD,\" and \"TOAST ITS - HAPPY BIRTHDAY\" to celebrate your friend's upcoming birthday.\n"
     ]
    }
   ],
   "source": [
    "print(chain.invoke(\"I am thirsty so want to buy some drinks.\"))\n",
    "print(chain.invoke(\"I need a hanger to hang.\"))\n",
    "print(chain.invoke(\"Soon my friend's birthday.\"))"
   ]
  },
  {
   "cell_type": "markdown",
   "metadata": {},
   "source": [
    "# Question list\n",
    "- I am thirsty so want to buy some drinks.\n",
    "- Is there any wallet?\n",
    "- Soon my friend's birthday."
   ]
  }
 ],
 "metadata": {
  "kernelspec": {
   "display_name": "Python 3",
   "language": "python",
   "name": "python3"
  },
  "language_info": {
   "codemirror_mode": {
    "name": "ipython",
    "version": 3
   },
   "file_extension": ".py",
   "mimetype": "text/x-python",
   "name": "python",
   "nbconvert_exporter": "python",
   "pygments_lexer": "ipython3",
   "version": "3.10.14"
  }
 },
 "nbformat": 4,
 "nbformat_minor": 2
}
