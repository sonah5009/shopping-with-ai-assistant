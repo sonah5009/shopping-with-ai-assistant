{
 "cells": [
  {
   "cell_type": "code",
   "execution_count": null,
   "metadata": {},
   "outputs": [],
   "source": [
    "from dotenv import load_dotenv\n",
    "import os\n",
    "from langchain.document_loaders import CSVLoader\n",
    "from langchain_openai import OpenAIEmbeddings\n",
    "from langchain.vectorstores import Chroma\n",
    "from langchain.embeddings.sentence_transformer import SentenceTransformerEmbeddings\n",
    "\n",
    "from langchain.prompts import ChatPromptTemplate\n",
    "from langchain.chat_models import ChatOpenAI\n",
    "from langchain_core.output_parsers import StrOutputParser\n",
    "from langchain_core.runnables import RunnableLambda, RunnablePassthrough"
   ]
  },
  {
   "cell_type": "code",
   "execution_count": null,
   "metadata": {},
   "outputs": [],
   "source": [
    "load_dotenv()"
   ]
  },
  {
   "cell_type": "code",
   "execution_count": null,
   "metadata": {},
   "outputs": [],
   "source": [
    "loader = CSVLoader(file_path=\"./e-commerce-data.csv\")\n",
    "documents = loader.load()"
   ]
  },
  {
   "cell_type": "markdown",
   "metadata": {},
   "source": [
    "# **all-MiniLM-L6-v2** model"
   ]
  },
  {
   "cell_type": "code",
   "execution_count": null,
   "metadata": {},
   "outputs": [],
   "source": [
    "# practice\n",
    "embedding_function = SentenceTransformerEmbeddings(model_name=\"all-MiniLM-L6-v2\")\n",
    "\n",
    "db = Chroma.from_documents(documents, embedding_function)\n",
    "query = \"How many quantity of the wallet is left?\"\n",
    "docs = db.similarity_search(query)\n",
    "print(docs[0].page_content)\n"
   ]
  },
  {
   "cell_type": "code",
   "execution_count": null,
   "metadata": {},
   "outputs": [],
   "source": [
    "query = \"I am thirsty so want to buy some drinks.\"\n",
    "docs = db.similarity_search(query)\n",
    "print(docs[0].page_content)"
   ]
  },
  {
   "cell_type": "markdown",
   "metadata": {},
   "source": [
    "# LangChain Expression with Chroma DB CSV (RAG) - **OpenAIEmbeddings** model"
   ]
  },
  {
   "cell_type": "code",
   "execution_count": null,
   "metadata": {},
   "outputs": [],
   "source": [
    "embeddings_ = OpenAIEmbeddings()\n",
    "loader = CSVLoader(file_path=\"./e-commerce-data.csv\")\n",
    "documents = loader.load()\n",
    "db = Chroma.from_documents(documents, embeddings_)"
   ]
  },
  {
   "cell_type": "code",
   "execution_count": null,
   "metadata": {},
   "outputs": [],
   "source": [
    "query = \"I am thirsty so want to buy some drinks.\"\n",
    "docs = db.similarity_search(query)\n",
    "print(docs[0].page_content)"
   ]
  },
  {
   "cell_type": "code",
   "execution_count": null,
   "metadata": {},
   "outputs": [],
   "source": [
    "retriever = db.as_retriever()\n",
    "\n",
    "template = \"\"\"\n",
    "You are the best online shopping mall seller.\n",
    "Answer the question based only on the following context and basically recommend the product with unit price:\n",
    "{context}\n",
    "\n",
    "Question: {question}\n",
    "\"\"\"\n",
    "\n",
    "prompt = ChatPromptTemplate.from_template(template)\n",
    "\n",
    "model = ChatOpenAI()\n",
    "\n",
    "chain = (\n",
    "    {\"context\": retriever, \"question\": RunnablePassthrough()}\n",
    "    | prompt\n",
    "    | model\n",
    "    | StrOutputParser()\n",
    ")\n"
   ]
  },
  {
   "cell_type": "code",
   "execution_count": null,
   "metadata": {},
   "outputs": [],
   "source": [
    "print(chain.invoke(\"I am thirsty so want to buy some drinks.\"))\n",
    "print(chain.invoke(\"I need a hanger to hang.\"))\n",
    "print(chain.invoke(\"Soon my friend's birthday.\"))"
   ]
  },
  {
   "cell_type": "markdown",
   "metadata": {},
   "source": [
    "# Shopping with ai assistant\n",
    "\n",
    "1. The users ask the list of products they want\n",
    "2. AI provides the product recommendations & ask the user for the specific product and quantity\n",
    "3. The AI processes the user's choice and calculates the total price based on the unit price and quantity\n",
    "4. The AI informs the user of the total cost"
   ]
  },
  {
   "cell_type": "code",
   "execution_count": 38,
   "metadata": {},
   "outputs": [],
   "source": [
    "# from langchain import ChatOpenAI, CSVLoader, Chroma, OpenAIEmbeddings, StrOutputParser, ChatPromptTemplate, RunnablePassthrough\n",
    "\n",
    "# Step 1: Setup\n",
    "embeddings_ = OpenAIEmbeddings()\n",
    "loader = CSVLoader(file_path=\"./e-commerce-data.csv\")\n",
    "documents = loader.load()\n",
    "db = Chroma.from_documents(documents, embeddings_)\n",
    "retriever = db.as_retriever()\n",
    "\n",
    "# Step 2: Define the initial prompt template\n",
    "initial_template = \"\"\"\n",
    "You are the best online shopping mall seller.\n",
    "Answer the question based only on the following context and basically show all the product with unit price:\n",
    "{context}\n",
    "\n",
    "Question: {question}\n",
    "\"\"\"\n",
    "\n",
    "# Step 3: Define the follow-up prompt template\n",
    "follow_up_template = \"\"\"\n",
    "Let me know the name of the product and quantity you want.\n",
    "\"\"\"\n",
    "\n",
    "\n",
    "# Step 4: Find the selected product\n",
    "def calculate_total_price(product_name, quantity, product_list):\n",
    "    while True:\n",
    "        found = False\n",
    "        for product in product_list:\n",
    "            if product_name.lower() in product['name'].lower():\n",
    "                unit_price = product['price']\n",
    "                total_price = unit_price * quantity\n",
    "                found = True\n",
    "                return total_price\n",
    "        \n",
    "        if not found:\n",
    "            print(f\"Product '{product_name}' not found. Please enter the correct product name or type 'end' to quit.\")\n",
    "            product_name = input(\"Enter the product name again or 'end' to quit: \")\n",
    "            if product_name.lower() == 'end':\n",
    "                print(\"Exiting the search process.\")\n",
    "                return None\n",
    "    \n",
    "    \n",
    "# Step 5: Setting up the chain with the templates and model\n",
    "initial_prompt = ChatPromptTemplate.from_template(initial_template)\n",
    "# follow_up_prompt = ChatPromptTemplate.from_template(follow_up_template)\n"
   ]
  },
  {
   "cell_type": "code",
   "execution_count": 41,
   "metadata": {},
   "outputs": [],
   "source": [
    "\n",
    "model = ChatOpenAI()\n",
    "# Creating the product list\n",
    "product_list = []\n",
    "\n",
    "# Function to execute the conversation chain\n",
    "def run_conversation(user_question):\n",
    "    # Get initial recommendations\n",
    "    initial_chain = (\n",
    "        {\"context\": retriever, \"question\": RunnablePassthrough()}\n",
    "        | initial_prompt\n",
    "        | model\n",
    "        | StrOutputParser()\n",
    "    )\n",
    "\n",
    "    initial_response = initial_chain.invoke(user_question)\n",
    "    \n",
    "    print(f\"AI: {initial_response}\", flush=True) # Print initial response and flush to ensure the message appears before the input prompt\n",
    "\n",
    "    # Ask for product choice\n",
    "    print(\"AI: Let me know the name of the product and quantity you want.\", flush=True)  \n",
    "    # Extract product and quantity from user input\n",
    "    product_name = input(\"Choose the product- only input the name:\")\n",
    "    print(f\"User: {product_name}\")\n",
    "    quantity = int(input(\"How many stock do you want? - Just input the number:\"))\n",
    "    print(f\"User:{quantity}\")\n",
    "\n",
    "    # Product list\n",
    "    docs = db.similarity_search(user_question)\n",
    "    # Parsing function to extract product details\n",
    "    def parse_product(doc):\n",
    "        lines = doc.page_content.split('\\n')\n",
    "        product_info = {}\n",
    "        for line in lines:\n",
    "            key, value = line.split(': ')\n",
    "            key = key.strip().lower()\n",
    "            value = value.strip()\n",
    "            if key == 'name':\n",
    "                product_info['name'] = value\n",
    "            elif key == 'unitprice':\n",
    "                product_info['price'] = float(value)\n",
    "            elif key == 'quantity':\n",
    "                product_info['quantity'] = int(value)\n",
    "        return product_info\n",
    "\n",
    "\n",
    "    for doc in docs:\n",
    "        product_info = parse_product(doc)\n",
    "        if product_info not in product_list:\n",
    "            product_list.append(product_info)\n",
    "    \n",
    "    \n",
    "\n",
    "    # Calculate total price\n",
    "    total_price = calculate_total_price(product_name.strip(), quantity, product_list)\n",
    "    \n",
    "    if total_price is not None:\n",
    "        print(f\"AI: The price of {product_name.strip()} is ${total_price}.\")\n",
    "    else:\n",
    "        print(\"AI: Sorry, I couldn't find the product you specified.\")\n"
   ]
  },
  {
   "cell_type": "code",
   "execution_count": 42,
   "metadata": {},
   "outputs": [
    {
     "name": "stdout",
     "output_type": "stream",
     "text": [
      "User: I am hungry. I want to eat something.\n",
      "AI: Sure! Here are some lunch boxes with cutlery that you can enjoy:\n",
      "\n",
      "1. Name: LUNCH BOX WITH CUTLERY FAIRY CAKES\n",
      "   Quantity: 1\n",
      "   Unit Price: $0.0\n",
      "\n",
      "Feel free to choose any of these lunch boxes to satisfy your hunger!\n",
      "AI: Let me know the name of the product and quantity you want.\n",
      "User: LUNCH BOX WITH CUTLERY FAIRY CAKES\n",
      "User:1\n",
      "AI: The price of LUNCH BOX WITH CUTLERY FAIRY CAKES is $0.0.\n"
     ]
    }
   ],
   "source": [
    "# Step 6: Running the conversation with the user question\n",
    "user_input = input(\"Ask what you want :)\")\n",
    "print(f\"User: {user_input}\")\n",
    "run_conversation(user_input)"
   ]
  },
  {
   "cell_type": "markdown",
   "metadata": {},
   "source": [
    "# Evaluation"
   ]
  },
  {
   "cell_type": "code",
   "execution_count": null,
   "metadata": {},
   "outputs": [],
   "source": [
    "# Print product list to verify\n",
    "for product in product_list:\n",
    "    print(product)\n",
    "print()\n"
   ]
  },
  {
   "cell_type": "markdown",
   "metadata": {},
   "source": [
    "# Question list\n",
    "- I am hungry. I want to eat something.\n",
    "- I am thristy so want to buy some drinks.\n",
    "- Is there any wallet?\n",
    "- Soon my friend's birthday."
   ]
  }
 ],
 "metadata": {
  "kernelspec": {
   "display_name": "Python 3",
   "language": "python",
   "name": "python3"
  },
  "language_info": {
   "codemirror_mode": {
    "name": "ipython",
    "version": 3
   },
   "file_extension": ".py",
   "mimetype": "text/x-python",
   "name": "python",
   "nbconvert_exporter": "python",
   "pygments_lexer": "ipython3",
   "version": "3.10.14"
  }
 },
 "nbformat": 4,
 "nbformat_minor": 2
}
